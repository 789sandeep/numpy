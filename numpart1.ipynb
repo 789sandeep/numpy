{
 "cells": [
  {
   "cell_type": "code",
   "execution_count": 186,
   "id": "d8fdba7c-c300-458b-9984-78bb6405dec1",
   "metadata": {},
   "outputs": [],
   "source": [
    "import numpy as np\n",
    "import logging\n",
    "logging.basicConfig(filename=\"num.log\",level=logging.DEBUG,format=\"%(asctime)s %(name)s %(levelname)s %(message)s\")"
   ]
  },
  {
   "cell_type": "code",
   "execution_count": 187,
   "id": "6e8139a6-0958-4f63-97f8-cb3f1708a4d7",
   "metadata": {},
   "outputs": [
    {
     "data": {
      "text/plain": [
       "array([1, 2, 4, 5])"
      ]
     },
     "execution_count": 187,
     "metadata": {},
     "output_type": "execute_result"
    }
   ],
   "source": [
    "l=[1,2,4,5]\n",
    "logging.info(\"this is one dimensional array\")\n",
    "logging.info(\"array is the super class of numpy\")\n",
    "np.array(l)"
   ]
  },
  {
   "cell_type": "code",
   "execution_count": 188,
   "id": "0eed5422-7929-4d3c-af1a-b8993c63fb6d",
   "metadata": {},
   "outputs": [],
   "source": [
    "l1=[[5,34,6,4],\n",
    "   [7,4,85,4]]\n",
    "logging.info(\"this is two dimensional array\")\n",
    "a=np.array(l1)"
   ]
  },
  {
   "cell_type": "code",
   "execution_count": 189,
   "id": "b278a7f4-78ca-49ef-9c97-2f4fe4712f55",
   "metadata": {},
   "outputs": [
    {
     "data": {
      "text/plain": [
       "array([[ 5, 34,  6,  4],\n",
       "       [ 7,  4, 85,  4]])"
      ]
     },
     "execution_count": 189,
     "metadata": {},
     "output_type": "execute_result"
    }
   ],
   "source": [
    "a"
   ]
  },
  {
   "cell_type": "code",
   "execution_count": 190,
   "id": "e9dd3bf9-2aa4-430b-bbcd-62217bde744f",
   "metadata": {},
   "outputs": [
    {
     "data": {
      "text/plain": [
       "array([[ 5, 34,  6,  4],\n",
       "       [ 7,  4, 85,  4]])"
      ]
     },
     "execution_count": 190,
     "metadata": {},
     "output_type": "execute_result"
    }
   ],
   "source": [
    "logging.info(\"btoh are generate array\")\n",
    "np.asarray(l1)\n",
    "np.asanyarray(l1)"
   ]
  },
  {
   "cell_type": "code",
   "execution_count": 5,
   "id": "1e788391-2a90-4f3a-9bfa-719136c9f005",
   "metadata": {},
   "outputs": [
    {
     "data": {
      "text/plain": [
       "matrix([[1, 2, 4, 5]])"
      ]
     },
     "execution_count": 5,
     "metadata": {},
     "output_type": "execute_result"
    }
   ],
   "source": [
    "logging.info(\"this is sub class not change in as asarray becouse is already in array\")\n",
    "np.matrix(l)"
   ]
  },
  {
   "cell_type": "code",
   "execution_count": 6,
   "id": "34670475-3342-4605-be65-ddb61252bab4",
   "metadata": {},
   "outputs": [],
   "source": [
    "b=a"
   ]
  },
  {
   "cell_type": "code",
   "execution_count": 7,
   "id": "5907c604-efb0-4b42-b250-2f8d034ae963",
   "metadata": {},
   "outputs": [
    {
     "data": {
      "text/plain": [
       "numpy.ndarray"
      ]
     },
     "execution_count": 7,
     "metadata": {},
     "output_type": "execute_result"
    }
   ],
   "source": [
    "type(b)"
   ]
  },
  {
   "cell_type": "code",
   "execution_count": 8,
   "id": "0a9a9fa2-9deb-422a-892f-fa0303083b38",
   "metadata": {},
   "outputs": [
    {
     "data": {
      "text/plain": [
       "array([[10, 34,  6,  4],\n",
       "       [ 7,  4, 85,  4]])"
      ]
     },
     "execution_count": 8,
     "metadata": {},
     "output_type": "execute_result"
    }
   ],
   "source": [
    "logging.info(\"swallow copy\")\n",
    "b[0][0]=10\n",
    "b"
   ]
  },
  {
   "cell_type": "code",
   "execution_count": 9,
   "id": "74bff6af-b8ca-4f64-ac4d-21e0d834f5fb",
   "metadata": {},
   "outputs": [
    {
     "data": {
      "text/plain": [
       "array([[10, 34,  6,  4],\n",
       "       [ 7,  4, 85,  4]])"
      ]
     },
     "execution_count": 9,
     "metadata": {},
     "output_type": "execute_result"
    }
   ],
   "source": [
    "a"
   ]
  },
  {
   "cell_type": "code",
   "execution_count": 10,
   "id": "a9eb2be6-e003-429f-bf4d-6eb2b7cf1b39",
   "metadata": {},
   "outputs": [
    {
     "data": {
      "text/plain": [
       "array([[ 10,  34, 234,   4],\n",
       "       [  7,   4,  85,   4]])"
      ]
     },
     "execution_count": 10,
     "metadata": {},
     "output_type": "execute_result"
    }
   ],
   "source": [
    "logging.info(\"deep copy\")\n",
    "d=np.copy(a)\n",
    "d[0][2]=234\n",
    "d"
   ]
  },
  {
   "cell_type": "code",
   "execution_count": 11,
   "id": "722a8f16-41e3-4701-8997-e75c6ab83830",
   "metadata": {},
   "outputs": [
    {
     "data": {
      "text/plain": [
       "array([[10, 34,  6,  4],\n",
       "       [ 7,  4, 85,  4]])"
      ]
     },
     "execution_count": 11,
     "metadata": {},
     "output_type": "execute_result"
    }
   ],
   "source": [
    "a"
   ]
  },
  {
   "cell_type": "code",
   "execution_count": 12,
   "id": "a6de369f-c171-4dfb-8cb4-2479e71f1fff",
   "metadata": {},
   "outputs": [
    {
     "data": {
      "text/plain": [
       "array([[ True, False, False, False],\n",
       "       [False,  True, False, False],\n",
       "       [False, False,  True, False],\n",
       "       [False, False, False,  True]])"
      ]
     },
     "execution_count": 12,
     "metadata": {},
     "output_type": "execute_result"
    }
   ],
   "source": [
    "np.fromfunction(lambda i,j:i==j,(4,4))"
   ]
  },
  {
   "cell_type": "code",
   "execution_count": 13,
   "id": "f4132927-f76a-477e-90f4-916f3ee9a03a",
   "metadata": {},
   "outputs": [
    {
     "data": {
      "text/plain": [
       "array([[0., 0., 0., 0.],\n",
       "       [0., 1., 2., 3.],\n",
       "       [0., 2., 4., 6.],\n",
       "       [0., 3., 6., 9.]])"
      ]
     },
     "execution_count": 13,
     "metadata": {},
     "output_type": "execute_result"
    }
   ],
   "source": [
    "\n",
    "np.fromfunction(lambda i,j:i*j,(4,4))"
   ]
  },
  {
   "cell_type": "code",
   "execution_count": 14,
   "id": "863bc0be-2dfd-471b-a60e-5fe978a4da1f",
   "metadata": {},
   "outputs": [
    {
     "data": {
      "text/plain": [
       "array([   0,    1,    4,    9,   16,   25,   36,   49,   64,   81,  100,\n",
       "        121,  144,  169,  196,  225,  256,  289,  324,  361,  400,  441,\n",
       "        484,  529,  576,  625,  676,  729,  784,  841,  900,  961, 1024,\n",
       "       1089, 1156, 1225, 1296, 1369, 1444, 1521, 1600, 1681, 1764, 1849,\n",
       "       1936])"
      ]
     },
     "execution_count": 14,
     "metadata": {},
     "output_type": "execute_result"
    }
   ],
   "source": [
    "treable=(i*i  for i in range(45))\n",
    "np.fromiter(treable,int)"
   ]
  },
  {
   "cell_type": "code",
   "execution_count": 15,
   "id": "26b76c67-0ec2-4516-a653-fa135d0cc8da",
   "metadata": {},
   "outputs": [
    {
     "data": {
      "text/plain": [
       "array([23., 25., 26.])"
      ]
     },
     "execution_count": 15,
     "metadata": {},
     "output_type": "execute_result"
    }
   ],
   "source": [
    "np.fromstring(\"23 25 26\",sep=' ')"
   ]
  },
  {
   "cell_type": "code",
   "execution_count": 33,
   "id": "f91a6095-07f4-45c2-b955-913f1e556552",
   "metadata": {},
   "outputs": [
    {
     "data": {
      "text/plain": [
       "2"
      ]
     },
     "execution_count": 33,
     "metadata": {},
     "output_type": "execute_result"
    }
   ],
   "source": [
    "#pyhton numpy datatype\n",
    "l2=[[5,34,6,4],\n",
    "   [7,4,85,4]]\n",
    "arr=np.array(l2)\n",
    "logging.info(\"dimensional of array\")\n",
    "arr .ndim"
   ]
  },
  {
   "cell_type": "code",
   "execution_count": 34,
   "id": "3a1e05f3-2ecc-4032-80fe-a568cf750077",
   "metadata": {},
   "outputs": [
    {
     "data": {
      "text/plain": [
       "array([[ 5, 34,  6,  4],\n",
       "       [ 7,  4, 85,  4]])"
      ]
     },
     "execution_count": 34,
     "metadata": {},
     "output_type": "execute_result"
    }
   ],
   "source": [
    "arr"
   ]
  },
  {
   "cell_type": "code",
   "execution_count": 35,
   "id": "cfc4cfc0-f08c-40d7-9ff4-1d49178d060d",
   "metadata": {},
   "outputs": [
    {
     "data": {
      "text/plain": [
       "8"
      ]
     },
     "execution_count": 35,
     "metadata": {},
     "output_type": "execute_result"
    }
   ],
   "source": [
    "logging.info(\"size of array\")\n",
    "arr.size"
   ]
  },
  {
   "cell_type": "code",
   "execution_count": 36,
   "id": "18755f60-481b-4923-8780-df9c856c395d",
   "metadata": {},
   "outputs": [
    {
     "data": {
      "text/plain": [
       "(2, 4)"
      ]
     },
     "execution_count": 36,
     "metadata": {},
     "output_type": "execute_result"
    }
   ],
   "source": [
    "logging.info(\"row column\")\n",
    "arr.shape"
   ]
  },
  {
   "cell_type": "code",
   "execution_count": 38,
   "id": "303b15f3-87e4-4661-8280-6485819a6219",
   "metadata": {},
   "outputs": [
    {
     "data": {
      "text/plain": [
       "dtype('int64')"
      ]
     },
     "execution_count": 38,
     "metadata": {},
     "output_type": "execute_result"
    }
   ],
   "source": [
    "arr.dtype"
   ]
  },
  {
   "cell_type": "code",
   "execution_count": 39,
   "id": "83201803-af88-439f-850f-3f600a4850d4",
   "metadata": {},
   "outputs": [
    {
     "data": {
      "text/plain": [
       "array([[ 1,  2,  3,  4],\n",
       "       [ 6,  7, 85,  5]])"
      ]
     },
     "execution_count": 39,
     "metadata": {},
     "output_type": "execute_result"
    }
   ],
   "source": [
    "arr=np.array([(1,2,3,4),(6,7,85,5)])\n",
    "arr"
   ]
  },
  {
   "cell_type": "code",
   "execution_count": 191,
   "id": "c0cffe59-95f3-42f7-8316-944dcb1068db",
   "metadata": {},
   "outputs": [
    {
     "data": {
      "text/plain": [
       "[0, 1, 2, 3, 4]"
      ]
     },
     "execution_count": 191,
     "metadata": {},
     "output_type": "execute_result"
    }
   ],
   "source": [
    "list(range(5))"
   ]
  },
  {
   "cell_type": "code",
   "execution_count": 41,
   "id": "2d3f620f-b81d-4dca-8ec6-ca699c0bbfcd",
   "metadata": {},
   "outputs": [
    {
     "ename": "TypeError",
     "evalue": "'float' object cannot be interpreted as an integer",
     "output_type": "error",
     "traceback": [
      "\u001b[0;31m---------------------------------------------------------------------------\u001b[0m",
      "\u001b[0;31mTypeError\u001b[0m                                 Traceback (most recent call last)",
      "Cell \u001b[0;32mIn[41], line 1\u001b[0m\n\u001b[0;32m----> 1\u001b[0m \u001b[38;5;28mlist\u001b[39m(\u001b[38;5;28;43mrange\u001b[39;49m\u001b[43m(\u001b[49m\u001b[38;5;241;43m5.1\u001b[39;49m\u001b[43m)\u001b[49m)\n",
      "\u001b[0;31mTypeError\u001b[0m: 'float' object cannot be interpreted as an integer"
     ]
    }
   ],
   "source": [
    "list(range(5.1))"
   ]
  },
  {
   "cell_type": "code",
   "execution_count": 43,
   "id": "1919e4fa-9106-4890-8b90-e04419ab6c6a",
   "metadata": {},
   "outputs": [
    {
     "data": {
      "text/plain": [
       "array([2.4, 3.4, 4.4, 5.4])"
      ]
     },
     "execution_count": 43,
     "metadata": {},
     "output_type": "execute_result"
    }
   ],
   "source": [
    "np.arange(2.4,5.9)"
   ]
  },
  {
   "cell_type": "code",
   "execution_count": 44,
   "id": "db3800ed-b32e-4f3c-a1d9-33655cbdca6d",
   "metadata": {},
   "outputs": [
    {
     "data": {
      "text/plain": [
       "[2.5, 3.5, 4.5, 5.5, 6.5]"
      ]
     },
     "execution_count": 44,
     "metadata": {},
     "output_type": "execute_result"
    }
   ],
   "source": [
    "list(np.arange(2.5,7.5))"
   ]
  },
  {
   "cell_type": "code",
   "execution_count": 46,
   "id": "a11bf999-fc6e-445c-9710-2a5734690179",
   "metadata": {},
   "outputs": [
    {
     "data": {
      "text/plain": [
       "array([ 2.        ,  2.16326531,  2.32653061,  2.48979592,  2.65306122,\n",
       "        2.81632653,  2.97959184,  3.14285714,  3.30612245,  3.46938776,\n",
       "        3.63265306,  3.79591837,  3.95918367,  4.12244898,  4.28571429,\n",
       "        4.44897959,  4.6122449 ,  4.7755102 ,  4.93877551,  5.10204082,\n",
       "        5.26530612,  5.42857143,  5.59183673,  5.75510204,  5.91836735,\n",
       "        6.08163265,  6.24489796,  6.40816327,  6.57142857,  6.73469388,\n",
       "        6.89795918,  7.06122449,  7.2244898 ,  7.3877551 ,  7.55102041,\n",
       "        7.71428571,  7.87755102,  8.04081633,  8.20408163,  8.36734694,\n",
       "        8.53061224,  8.69387755,  8.85714286,  9.02040816,  9.18367347,\n",
       "        9.34693878,  9.51020408,  9.67346939,  9.83673469, 10.        ])"
      ]
     },
     "execution_count": 46,
     "metadata": {},
     "output_type": "execute_result"
    }
   ],
   "source": [
    "np.linspace(2,10)"
   ]
  },
  {
   "cell_type": "code",
   "execution_count": 53,
   "id": "f57aadcc-d08c-42f2-8a23-8c5897239d62",
   "metadata": {},
   "outputs": [
    {
     "data": {
      "text/plain": [
       "array([0., 0., 0., 0.])"
      ]
     },
     "execution_count": 53,
     "metadata": {},
     "output_type": "execute_result"
    }
   ],
   "source": [
    "np.zeros(4)"
   ]
  },
  {
   "cell_type": "code",
   "execution_count": 54,
   "id": "6dfc71bd-1ae1-4e1c-8b8a-1bfb48503029",
   "metadata": {},
   "outputs": [
    {
     "data": {
      "text/plain": [
       "array([[0., 0., 0., 0.],\n",
       "       [0., 0., 0., 0.]])"
      ]
     },
     "execution_count": 54,
     "metadata": {},
     "output_type": "execute_result"
    }
   ],
   "source": [
    "np.zeros((2,4))"
   ]
  },
  {
   "cell_type": "code",
   "execution_count": 55,
   "id": "3b985a88-d48f-4c22-b6c3-1794f711aa94",
   "metadata": {},
   "outputs": [
    {
     "data": {
      "text/plain": [
       "array([[0., 0., 0.],\n",
       "       [0., 0., 0.],\n",
       "       [0., 0., 0.]])"
      ]
     },
     "execution_count": 55,
     "metadata": {},
     "output_type": "execute_result"
    }
   ],
   "source": [
    "np.zeros((3,3))"
   ]
  },
  {
   "cell_type": "code",
   "execution_count": 56,
   "id": "20b1c200-6c91-4421-a382-e041f01eec3f",
   "metadata": {},
   "outputs": [
    {
     "data": {
      "text/plain": [
       "array([[[0., 0., 0.],\n",
       "        [0., 0., 0.],\n",
       "        [0., 0., 0.],\n",
       "        [0., 0., 0.]],\n",
       "\n",
       "       [[0., 0., 0.],\n",
       "        [0., 0., 0.],\n",
       "        [0., 0., 0.],\n",
       "        [0., 0., 0.]],\n",
       "\n",
       "       [[0., 0., 0.],\n",
       "        [0., 0., 0.],\n",
       "        [0., 0., 0.],\n",
       "        [0., 0., 0.]]])"
      ]
     },
     "execution_count": 56,
     "metadata": {},
     "output_type": "execute_result"
    }
   ],
   "source": [
    "np.zeros((3,4,3))"
   ]
  },
  {
   "cell_type": "code",
   "execution_count": 57,
   "id": "82e59690-bbc6-464f-94d8-4675d7cb2fbb",
   "metadata": {},
   "outputs": [
    {
     "data": {
      "text/plain": [
       "array([1., 1., 1., 1.])"
      ]
     },
     "execution_count": 57,
     "metadata": {},
     "output_type": "execute_result"
    }
   ],
   "source": [
    "np.ones(4)"
   ]
  },
  {
   "cell_type": "code",
   "execution_count": 58,
   "id": "22bb5026-2fda-4a42-8faf-c68a063d74be",
   "metadata": {},
   "outputs": [
    {
     "data": {
      "text/plain": [
       "array([[1., 1., 1., 1.],\n",
       "       [1., 1., 1., 1.],\n",
       "       [1., 1., 1., 1.]])"
      ]
     },
     "execution_count": 58,
     "metadata": {},
     "output_type": "execute_result"
    }
   ],
   "source": [
    "np.ones((3,4))"
   ]
  },
  {
   "cell_type": "code",
   "execution_count": 63,
   "id": "287f5c57-1d00-424b-a7a7-4e454b40fb1c",
   "metadata": {},
   "outputs": [],
   "source": [
    "a=np.ones((3,4,4))"
   ]
  },
  {
   "cell_type": "code",
   "execution_count": 64,
   "id": "c1963e91-515d-4f0c-8ba9-c8368bc9ebd6",
   "metadata": {},
   "outputs": [
    {
     "data": {
      "text/plain": [
       "array([[[1., 1., 1., 1.],\n",
       "        [1., 1., 1., 1.],\n",
       "        [1., 1., 1., 1.],\n",
       "        [1., 1., 1., 1.]],\n",
       "\n",
       "       [[1., 1., 1., 1.],\n",
       "        [1., 1., 1., 1.],\n",
       "        [1., 1., 1., 1.],\n",
       "        [1., 1., 1., 1.]],\n",
       "\n",
       "       [[1., 1., 1., 1.],\n",
       "        [1., 1., 1., 1.],\n",
       "        [1., 1., 1., 1.],\n",
       "        [1., 1., 1., 1.]]])"
      ]
     },
     "execution_count": 64,
     "metadata": {},
     "output_type": "execute_result"
    }
   ],
   "source": [
    "a"
   ]
  },
  {
   "cell_type": "code",
   "execution_count": 65,
   "id": "810e745f-b57a-408e-82c9-175b3f803096",
   "metadata": {},
   "outputs": [
    {
     "data": {
      "text/plain": [
       "array([[[11., 11., 11., 11.],\n",
       "        [11., 11., 11., 11.],\n",
       "        [11., 11., 11., 11.],\n",
       "        [11., 11., 11., 11.]],\n",
       "\n",
       "       [[11., 11., 11., 11.],\n",
       "        [11., 11., 11., 11.],\n",
       "        [11., 11., 11., 11.],\n",
       "        [11., 11., 11., 11.]],\n",
       "\n",
       "       [[11., 11., 11., 11.],\n",
       "        [11., 11., 11., 11.],\n",
       "        [11., 11., 11., 11.],\n",
       "        [11., 11., 11., 11.]]])"
      ]
     },
     "execution_count": 65,
     "metadata": {},
     "output_type": "execute_result"
    }
   ],
   "source": [
    "a+10"
   ]
  },
  {
   "cell_type": "code",
   "execution_count": 71,
   "id": "7292fe0c-4559-425d-a2b3-56e57f53191e",
   "metadata": {},
   "outputs": [
    {
     "data": {
      "text/plain": [
       "array([[4.64679349e-310, 0.00000000e+000, 6.90551414e-310,\n",
       "        6.90551388e-310, 6.90551413e-310, 6.90551407e-310],\n",
       "       [6.90551409e-310, 6.90551294e-310, 6.90551402e-310,\n",
       "        6.90551404e-310, 6.90551415e-310, 6.90551415e-310],\n",
       "       [6.90551412e-310, 6.90551412e-310, 6.90551294e-310,\n",
       "        6.90551416e-310, 6.90551397e-310, 6.90551414e-310]])"
      ]
     },
     "execution_count": 71,
     "metadata": {},
     "output_type": "execute_result"
    }
   ],
   "source": [
    "np.empty((3,6))"
   ]
  },
  {
   "cell_type": "code",
   "execution_count": 72,
   "id": "628c2725-a6e4-42fd-9383-031c87461a68",
   "metadata": {},
   "outputs": [
    {
     "data": {
      "text/plain": [
       "array([[1., 0., 0., 0., 0.],\n",
       "       [0., 1., 0., 0., 0.],\n",
       "       [0., 0., 1., 0., 0.],\n",
       "       [0., 0., 0., 1., 0.],\n",
       "       [0., 0., 0., 0., 1.]])"
      ]
     },
     "execution_count": 72,
     "metadata": {},
     "output_type": "execute_result"
    }
   ],
   "source": [
    "np.eye(5)"
   ]
  },
  {
   "cell_type": "code",
   "execution_count": 79,
   "id": "1b8f5aa9-0d67-4408-858c-8ff4f0f34f28",
   "metadata": {},
   "outputs": [
    {
     "data": {
      "text/plain": [
       "array([  100.        ,   316.22776602,  1000.        ,  3162.27766017,\n",
       "       10000.        ])"
      ]
     },
     "execution_count": 79,
     "metadata": {},
     "output_type": "execute_result"
    }
   ],
   "source": [
    "np.logspace(2,4,5)"
   ]
  },
  {
   "cell_type": "code",
   "execution_count": 86,
   "id": "cab967db-428c-4a79-86f4-12f588daa943",
   "metadata": {},
   "outputs": [],
   "source": [
    "rand=np.random.randn(5,3)"
   ]
  },
  {
   "cell_type": "code",
   "execution_count": 87,
   "id": "9bc02254-7d1b-45b3-9822-c35055641ace",
   "metadata": {},
   "outputs": [
    {
     "data": {
      "text/html": [
       "<div>\n",
       "<style scoped>\n",
       "    .dataframe tbody tr th:only-of-type {\n",
       "        vertical-align: middle;\n",
       "    }\n",
       "\n",
       "    .dataframe tbody tr th {\n",
       "        vertical-align: top;\n",
       "    }\n",
       "\n",
       "    .dataframe thead th {\n",
       "        text-align: right;\n",
       "    }\n",
       "</style>\n",
       "<table border=\"1\" class=\"dataframe\">\n",
       "  <thead>\n",
       "    <tr style=\"text-align: right;\">\n",
       "      <th></th>\n",
       "      <th>0</th>\n",
       "      <th>1</th>\n",
       "      <th>2</th>\n",
       "    </tr>\n",
       "  </thead>\n",
       "  <tbody>\n",
       "    <tr>\n",
       "      <th>0</th>\n",
       "      <td>0.542248</td>\n",
       "      <td>0.791163</td>\n",
       "      <td>-2.154587</td>\n",
       "    </tr>\n",
       "    <tr>\n",
       "      <th>1</th>\n",
       "      <td>-0.734485</td>\n",
       "      <td>-0.520260</td>\n",
       "      <td>-2.209515</td>\n",
       "    </tr>\n",
       "    <tr>\n",
       "      <th>2</th>\n",
       "      <td>1.130166</td>\n",
       "      <td>2.035379</td>\n",
       "      <td>-0.037545</td>\n",
       "    </tr>\n",
       "    <tr>\n",
       "      <th>3</th>\n",
       "      <td>0.499005</td>\n",
       "      <td>0.271698</td>\n",
       "      <td>-0.519635</td>\n",
       "    </tr>\n",
       "    <tr>\n",
       "      <th>4</th>\n",
       "      <td>0.345727</td>\n",
       "      <td>-1.247477</td>\n",
       "      <td>0.648981</td>\n",
       "    </tr>\n",
       "  </tbody>\n",
       "</table>\n",
       "</div>"
      ],
      "text/plain": [
       "          0         1         2\n",
       "0  0.542248  0.791163 -2.154587\n",
       "1 -0.734485 -0.520260 -2.209515\n",
       "2  1.130166  2.035379 -0.037545\n",
       "3  0.499005  0.271698 -0.519635\n",
       "4  0.345727 -1.247477  0.648981"
      ]
     },
     "execution_count": 87,
     "metadata": {},
     "output_type": "execute_result"
    }
   ],
   "source": [
    "import pandas as pd\n",
    "pd.DataFrame(rand)"
   ]
  },
  {
   "cell_type": "code",
   "execution_count": 88,
   "id": "3d543626-c38e-473c-a90e-7c69ba6cd641",
   "metadata": {},
   "outputs": [
    {
     "data": {
      "text/plain": [
       "array([[0.33940142, 0.11879889, 0.17795206, 0.35778115, 0.2376465 ,\n",
       "        0.04754517],\n",
       "       [0.88124497, 0.71946968, 0.54459412, 0.91368824, 0.50707695,\n",
       "        0.37425507],\n",
       "       [0.33474185, 0.84046955, 0.62933875, 0.80809517, 0.30404687,\n",
       "        0.15328126]])"
      ]
     },
     "execution_count": 88,
     "metadata": {},
     "output_type": "execute_result"
    }
   ],
   "source": [
    "np.random.rand(3,6)"
   ]
  },
  {
   "cell_type": "code",
   "execution_count": 92,
   "id": "a6498776-cfc2-400d-a4de-94a7d9715b6e",
   "metadata": {},
   "outputs": [],
   "source": [
    "arr2=np.random.randint(1,100,(4,4))"
   ]
  },
  {
   "cell_type": "code",
   "execution_count": 94,
   "id": "43a22297-7fb9-48c5-8dd6-d32c19d9a6e3",
   "metadata": {},
   "outputs": [
    {
     "data": {
      "text/plain": [
       "array([[30, 28, 97, 50],\n",
       "       [36, 10, 24, 87],\n",
       "       [48, 47, 55, 33],\n",
       "       [24, 71, 49,  8]])"
      ]
     },
     "execution_count": 94,
     "metadata": {},
     "output_type": "execute_result"
    }
   ],
   "source": [
    "arr2"
   ]
  },
  {
   "cell_type": "code",
   "execution_count": 95,
   "id": "9943d472-a07d-4be6-8354-05f4b2b73242",
   "metadata": {},
   "outputs": [],
   "source": [
    "pd.DataFrame(np.random.randint(1,100,(10,20))).to_csv(\"rand.csv\")"
   ]
  },
  {
   "cell_type": "code",
   "execution_count": 99,
   "id": "e9b6ccb2-1413-4d07-8031-5190e5c212bf",
   "metadata": {},
   "outputs": [],
   "source": [
    "arr3=arr2.reshape(8,2)"
   ]
  },
  {
   "cell_type": "code",
   "execution_count": 100,
   "id": "f8bfc6f4-e992-47e4-9a4d-061bd66ab3ef",
   "metadata": {
    "tags": []
   },
   "outputs": [
    {
     "data": {
      "text/plain": [
       "array([[30, 28],\n",
       "       [97, 50],\n",
       "       [36, 10],\n",
       "       [24, 87],\n",
       "       [48, 47],\n",
       "       [55, 33],\n",
       "       [24, 71],\n",
       "       [49,  8]])"
      ]
     },
     "execution_count": 100,
     "metadata": {},
     "output_type": "execute_result"
    }
   ],
   "source": [
    "arr3"
   ]
  },
  {
   "cell_type": "code",
   "execution_count": 102,
   "id": "086f5117-349b-46f8-b8f0-d103c892c94c",
   "metadata": {},
   "outputs": [
    {
     "data": {
      "text/plain": [
       "array([10, 87, 47, 33, 71])"
      ]
     },
     "execution_count": 102,
     "metadata": {},
     "output_type": "execute_result"
    }
   ],
   "source": [
    "arr3[2:7,1]"
   ]
  },
  {
   "cell_type": "code",
   "execution_count": 107,
   "id": "2b18ef83-e501-4686-a137-be431e667eb3",
   "metadata": {},
   "outputs": [
    {
     "data": {
      "text/plain": [
       "array([51, 36, 80, 74, 49, 91, 64, 45, 65, 67, 84, 87, 74, 89, 80, 78, 49,\n",
       "       68, 60])"
      ]
     },
     "execution_count": 107,
     "metadata": {},
     "output_type": "execute_result"
    }
   ],
   "source": [
    "arr=np.random.randint(1,100,(5,5))\n",
    "arr[arr>30]"
   ]
  },
  {
   "cell_type": "code",
   "execution_count": 108,
   "id": "12bd2be8-0123-4883-8d97-877944e994ff",
   "metadata": {},
   "outputs": [
    {
     "data": {
      "text/plain": [
       "array([[14, 51, 36, 80, 74],\n",
       "       [49, 91, 64, 45, 65],\n",
       "       [14, 12, 67, 84, 87],\n",
       "       [26, 74, 89, 80,  2],\n",
       "       [78, 19, 49, 68, 60]])"
      ]
     },
     "execution_count": 108,
     "metadata": {},
     "output_type": "execute_result"
    }
   ],
   "source": [
    "arr"
   ]
  },
  {
   "cell_type": "code",
   "execution_count": 121,
   "id": "5919ed19-6329-45eb-96c1-90ab0abeefde",
   "metadata": {},
   "outputs": [
    {
     "data": {
      "text/plain": [
       "array([[12, 67],\n",
       "       [74, 89]])"
      ]
     },
     "execution_count": 121,
     "metadata": {},
     "output_type": "execute_result"
    }
   ],
   "source": [
    "arr[2:4,1:3]"
   ]
  },
  {
   "cell_type": "code",
   "execution_count": 122,
   "id": "08b2fa3d-791b-4133-bb19-72be8767606f",
   "metadata": {},
   "outputs": [
    {
     "data": {
      "text/plain": [
       "array([[12, 67],\n",
       "       [74, 89]])"
      ]
     },
     "execution_count": 122,
     "metadata": {},
     "output_type": "execute_result"
    }
   ],
   "source": [
    "arr[2:4,[1,2]]"
   ]
  },
  {
   "cell_type": "code",
   "execution_count": 134,
   "id": "7433be10-8533-47cc-a379-c044b8fdead0",
   "metadata": {},
   "outputs": [
    {
     "data": {
      "text/plain": [
       "array([[3, 2, 1],\n",
       "       [2, 3, 1],\n",
       "       [2, 2, 1]])"
      ]
     },
     "execution_count": 134,
     "metadata": {},
     "output_type": "execute_result"
    }
   ],
   "source": [
    "arr1=np.random.randint(1,4,(3,3))\n",
    "arr2=np.random.randint(1,4,(3,3))\n",
    "arr1"
   ]
  },
  {
   "cell_type": "code",
   "execution_count": 135,
   "id": "3e6c08b7-daf2-4bcc-b4d8-718c9e470edc",
   "metadata": {},
   "outputs": [
    {
     "data": {
      "text/plain": [
       "array([[3, 1, 1],\n",
       "       [2, 1, 1],\n",
       "       [2, 3, 2]])"
      ]
     },
     "execution_count": 135,
     "metadata": {},
     "output_type": "execute_result"
    }
   ],
   "source": [
    "arr2"
   ]
  },
  {
   "cell_type": "code",
   "execution_count": 136,
   "id": "7a57a7dd-7b98-4900-a1bc-c15ac7ec4bbe",
   "metadata": {},
   "outputs": [
    {
     "data": {
      "text/plain": [
       "array([[6, 3, 2],\n",
       "       [4, 4, 2],\n",
       "       [4, 5, 3]])"
      ]
     },
     "execution_count": 136,
     "metadata": {},
     "output_type": "execute_result"
    }
   ],
   "source": [
    "arr1+arr2"
   ]
  },
  {
   "cell_type": "code",
   "execution_count": 137,
   "id": "daf8b13f-12d5-42dc-89bf-1e50271ec8b7",
   "metadata": {},
   "outputs": [
    {
     "data": {
      "text/plain": [
       "array([[9, 2, 1],\n",
       "       [4, 3, 1],\n",
       "       [4, 6, 2]])"
      ]
     },
     "execution_count": 137,
     "metadata": {},
     "output_type": "execute_result"
    }
   ],
   "source": [
    "arr1*arr2"
   ]
  },
  {
   "cell_type": "code",
   "execution_count": 139,
   "id": "d931f0ac-04f7-4ba4-8780-cd5b73c5bacf",
   "metadata": {},
   "outputs": [
    {
     "data": {
      "text/plain": [
       "array([[15,  8,  7],\n",
       "       [14,  8,  7],\n",
       "       [12,  7,  6]])"
      ]
     },
     "execution_count": 139,
     "metadata": {},
     "output_type": "execute_result"
    }
   ],
   "source": [
    "#first matrix=m*n \n",
    "#second matrix=p*q\n",
    "#condition first matrix column n == second matrix row p\n",
    "arr1@arr2"
   ]
  },
  {
   "cell_type": "code",
   "execution_count": 140,
   "id": "9c9353b4-11d7-45f8-a08d-67271a639880",
   "metadata": {},
   "outputs": [
    {
     "name": "stderr",
     "output_type": "stream",
     "text": [
      "/tmp/ipykernel_84/1510032488.py:1: RuntimeWarning: divide by zero encountered in divide\n",
      "  arr1/0\n"
     ]
    },
    {
     "data": {
      "text/plain": [
       "array([[inf, inf, inf],\n",
       "       [inf, inf, inf],\n",
       "       [inf, inf, inf]])"
      ]
     },
     "execution_count": 140,
     "metadata": {},
     "output_type": "execute_result"
    }
   ],
   "source": [
    "arr1/0"
   ]
  },
  {
   "cell_type": "code",
   "execution_count": 141,
   "id": "9b9338ab-8b61-481c-907a-676e0b996601",
   "metadata": {},
   "outputs": [
    {
     "data": {
      "text/plain": [
       "array([[9, 4, 1],\n",
       "       [4, 9, 1],\n",
       "       [4, 4, 1]])"
      ]
     },
     "execution_count": 141,
     "metadata": {},
     "output_type": "execute_result"
    }
   ],
   "source": [
    "arr1**2"
   ]
  },
  {
   "cell_type": "code",
   "execution_count": 142,
   "id": "8ae9ece8-5f79-436e-930c-2a724a0f1472",
   "metadata": {},
   "outputs": [
    {
     "data": {
      "text/plain": [
       "array([[103, 102, 101],\n",
       "       [102, 103, 101],\n",
       "       [102, 102, 101]])"
      ]
     },
     "execution_count": 142,
     "metadata": {},
     "output_type": "execute_result"
    }
   ],
   "source": [
    "arr1+100"
   ]
  },
  {
   "cell_type": "code",
   "execution_count": 169,
   "id": "d1049de7-172e-4ae1-a697-e940460c7496",
   "metadata": {},
   "outputs": [],
   "source": [
    "logging.info(\"numpy in brodcasting\")"
   ]
  },
  {
   "cell_type": "code",
   "execution_count": 170,
   "id": "094702e4-a150-4a82-9baf-d17c6624307e",
   "metadata": {},
   "outputs": [],
   "source": [
    "arr=np.zeros((3,3))"
   ]
  },
  {
   "cell_type": "code",
   "execution_count": 171,
   "id": "7a8bde02-40b3-4187-9b64-863a843c4492",
   "metadata": {},
   "outputs": [
    {
     "data": {
      "text/plain": [
       "array([[0., 0., 0.],\n",
       "       [0., 0., 0.],\n",
       "       [0., 0., 0.]])"
      ]
     },
     "execution_count": 171,
     "metadata": {},
     "output_type": "execute_result"
    }
   ],
   "source": [
    "arr"
   ]
  },
  {
   "cell_type": "code",
   "execution_count": 172,
   "id": "c2223a77-9dae-4772-94d0-cd11c87d735d",
   "metadata": {},
   "outputs": [],
   "source": [
    "row=np.array([1,2,3])"
   ]
  },
  {
   "cell_type": "code",
   "execution_count": 173,
   "id": "2b7f5529-e462-40bd-9940-7ecd14dabdbe",
   "metadata": {},
   "outputs": [
    {
     "data": {
      "text/plain": [
       "array([1, 2, 3])"
      ]
     },
     "execution_count": 173,
     "metadata": {},
     "output_type": "execute_result"
    }
   ],
   "source": [
    "row"
   ]
  },
  {
   "cell_type": "code",
   "execution_count": 174,
   "id": "0ff08aca-11de-42cd-b3dd-84ab08c8b6b4",
   "metadata": {},
   "outputs": [
    {
     "data": {
      "text/plain": [
       "array([[1., 2., 3.],\n",
       "       [1., 2., 3.],\n",
       "       [1., 2., 3.]])"
      ]
     },
     "execution_count": 174,
     "metadata": {},
     "output_type": "execute_result"
    }
   ],
   "source": [
    "arr+row"
   ]
  },
  {
   "cell_type": "code",
   "execution_count": 175,
   "id": "4b5b8fa6-4ee4-4d49-b1b2-b9109d1b460c",
   "metadata": {},
   "outputs": [],
   "source": [
    "row=np.array([[1,2,3]])"
   ]
  },
  {
   "cell_type": "code",
   "execution_count": 176,
   "id": "0adda8d6-131e-44f0-a874-5f16027287d3",
   "metadata": {},
   "outputs": [
    {
     "data": {
      "text/plain": [
       "array([[1, 2, 3]])"
      ]
     },
     "execution_count": 176,
     "metadata": {},
     "output_type": "execute_result"
    }
   ],
   "source": [
    "row"
   ]
  },
  {
   "cell_type": "code",
   "execution_count": 177,
   "id": "f8bad3da-8fa2-4b67-b429-88dbe3630d6c",
   "metadata": {},
   "outputs": [
    {
     "data": {
      "text/plain": [
       "array([[1],\n",
       "       [2],\n",
       "       [3]])"
      ]
     },
     "execution_count": 177,
     "metadata": {},
     "output_type": "execute_result"
    }
   ],
   "source": [
    "row.T"
   ]
  },
  {
   "cell_type": "code",
   "execution_count": 178,
   "id": "304336fe-9a9e-44f0-89f0-ffe0e9e670d5",
   "metadata": {},
   "outputs": [
    {
     "data": {
      "text/plain": [
       "array([[1., 1., 1.],\n",
       "       [2., 2., 2.],\n",
       "       [3., 3., 3.]])"
      ]
     },
     "execution_count": 178,
     "metadata": {},
     "output_type": "execute_result"
    }
   ],
   "source": [
    "arr+row.T"
   ]
  },
  {
   "cell_type": "code",
   "execution_count": 179,
   "id": "579f3598-333c-4c9c-9e44-98c953b3ebc2",
   "metadata": {},
   "outputs": [],
   "source": [
    "s=np.random.randint(1,10,(3,3))"
   ]
  },
  {
   "cell_type": "code",
   "execution_count": 180,
   "id": "33912ea3-2e24-4e07-b3af-135f2cb3ee67",
   "metadata": {},
   "outputs": [
    {
     "data": {
      "text/plain": [
       "array([[6, 3, 4],\n",
       "       [1, 7, 2],\n",
       "       [8, 2, 8]])"
      ]
     },
     "execution_count": 180,
     "metadata": {},
     "output_type": "execute_result"
    }
   ],
   "source": [
    "s"
   ]
  },
  {
   "cell_type": "code",
   "execution_count": 181,
   "id": "1e5ac2c4-c4d9-440f-bf49-eb6e0c6ecc25",
   "metadata": {},
   "outputs": [
    {
     "data": {
      "text/plain": [
       "array([[2.44948974, 1.73205081, 2.        ],\n",
       "       [1.        , 2.64575131, 1.41421356],\n",
       "       [2.82842712, 1.41421356, 2.82842712]])"
      ]
     },
     "execution_count": 181,
     "metadata": {},
     "output_type": "execute_result"
    }
   ],
   "source": [
    "np.sqrt(s)"
   ]
  },
  {
   "cell_type": "code",
   "execution_count": 184,
   "id": "03babc54-360d-48b6-9bbf-4d749b22cb35",
   "metadata": {},
   "outputs": [
    {
     "data": {
      "text/plain": [
       "array([[0.77815125, 0.47712125, 0.60205999],\n",
       "       [0.        , 0.84509804, 0.30103   ],\n",
       "       [0.90308999, 0.30103   , 0.90308999]])"
      ]
     },
     "execution_count": 184,
     "metadata": {},
     "output_type": "execute_result"
    }
   ],
   "source": [
    "np.log10(s)"
   ]
  },
  {
   "cell_type": "code",
   "execution_count": null,
   "id": "be1d51e2-d605-497f-a2cd-3c6058f6e08a",
   "metadata": {},
   "outputs": [],
   "source": []
  }
 ],
 "metadata": {
  "kernelspec": {
   "display_name": "Python 3 (ipykernel)",
   "language": "python",
   "name": "python3"
  },
  "language_info": {
   "codemirror_mode": {
    "name": "ipython",
    "version": 3
   },
   "file_extension": ".py",
   "mimetype": "text/x-python",
   "name": "python",
   "nbconvert_exporter": "python",
   "pygments_lexer": "ipython3",
   "version": "3.10.8"
  }
 },
 "nbformat": 4,
 "nbformat_minor": 5
}
