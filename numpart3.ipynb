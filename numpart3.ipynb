{
 "cells": [
  {
   "cell_type": "code",
   "execution_count": 1,
   "id": "18962c65-ac8e-4b62-b485-e06739b44ed6",
   "metadata": {},
   "outputs": [],
   "source": [
    "#sort,searching and counting function"
   ]
  },
  {
   "cell_type": "code",
   "execution_count": 2,
   "id": "8abd3d53-db00-47c0-8d03-3165707c684a",
   "metadata": {},
   "outputs": [],
   "source": [
    "import numpy as np"
   ]
  },
  {
   "cell_type": "code",
   "execution_count": 12,
   "id": "f6924498-d563-465c-b427-bb0529fe8bd5",
   "metadata": {},
   "outputs": [],
   "source": [
    "ar=np.array([2,334,56,23,75,1,2,3,4])"
   ]
  },
  {
   "cell_type": "code",
   "execution_count": 13,
   "id": "52469ba7-02e2-496b-b836-f650207c1c36",
   "metadata": {},
   "outputs": [
    {
     "data": {
      "text/plain": [
       "array([  2, 334,  56,  23,  75,   1,   2,   3,   4])"
      ]
     },
     "execution_count": 13,
     "metadata": {},
     "output_type": "execute_result"
    }
   ],
   "source": [
    "ar"
   ]
  },
  {
   "cell_type": "code",
   "execution_count": 14,
   "id": "05b4b2a9-3780-4c48-92d4-481b6985ad97",
   "metadata": {},
   "outputs": [
    {
     "data": {
      "text/plain": [
       "array([  1,   2,   2,   3,   4,  23,  56,  75, 334])"
      ]
     },
     "execution_count": 14,
     "metadata": {},
     "output_type": "execute_result"
    }
   ],
   "source": [
    "np.sort(ar)"
   ]
  },
  {
   "cell_type": "code",
   "execution_count": 15,
   "id": "1d4a2d79-ff74-4d9f-a993-bc47ba54309c",
   "metadata": {},
   "outputs": [
    {
     "data": {
      "text/plain": [
       "9"
      ]
     },
     "execution_count": 15,
     "metadata": {},
     "output_type": "execute_result"
    }
   ],
   "source": [
    "np.searchsorted(ar,76)"
   ]
  },
  {
   "cell_type": "code",
   "execution_count": 19,
   "id": "acf939b8-27b3-4090-a5e8-278fa10d285b",
   "metadata": {},
   "outputs": [],
   "source": [
    "ar1=np.array([9,7,5,6,34,2,9,0,0,0,0])"
   ]
  },
  {
   "cell_type": "code",
   "execution_count": 20,
   "id": "75030d08-1dfc-4a34-8cf2-444ea0460d19",
   "metadata": {},
   "outputs": [
    {
     "data": {
      "text/plain": [
       "array([ 9,  7,  5,  6, 34,  2,  9,  0,  0,  0,  0])"
      ]
     },
     "execution_count": 20,
     "metadata": {},
     "output_type": "execute_result"
    }
   ],
   "source": [
    "ar1"
   ]
  },
  {
   "cell_type": "code",
   "execution_count": 21,
   "id": "65ef2a79-5008-4a76-bceb-e04b78d0bf2c",
   "metadata": {},
   "outputs": [
    {
     "data": {
      "text/plain": [
       "7"
      ]
     },
     "execution_count": 21,
     "metadata": {},
     "output_type": "execute_result"
    }
   ],
   "source": [
    "np.count_nonzero(ar1)"
   ]
  },
  {
   "cell_type": "code",
   "execution_count": 22,
   "id": "c1143632-9a18-4c12-b201-7b53f6f378eb",
   "metadata": {},
   "outputs": [
    {
     "data": {
      "text/plain": [
       "array([  2, 334,  56,  23,  75,   1,   2,   3,   4])"
      ]
     },
     "execution_count": 22,
     "metadata": {},
     "output_type": "execute_result"
    }
   ],
   "source": [
    "ar"
   ]
  },
  {
   "cell_type": "code",
   "execution_count": 25,
   "id": "f0da7ca1-b737-458c-9352-7ce3b478c2ee",
   "metadata": {},
   "outputs": [
    {
     "data": {
      "text/plain": [
       "(array([1, 2, 3, 4]),)"
      ]
     },
     "execution_count": 25,
     "metadata": {},
     "output_type": "execute_result"
    }
   ],
   "source": [
    "np.where(ar>6) # provide index"
   ]
  },
  {
   "cell_type": "code",
   "execution_count": 27,
   "id": "1c30799a-e142-4ef8-ad8c-87628d303c5d",
   "metadata": {},
   "outputs": [
    {
     "data": {
      "text/plain": [
       "array([334,  56,  23,  75])"
      ]
     },
     "execution_count": 27,
     "metadata": {},
     "output_type": "execute_result"
    }
   ],
   "source": [
    "np.extract(ar>6,ar)"
   ]
  },
  {
   "cell_type": "code",
   "execution_count": 28,
   "id": "0dcfe473-2187-4e6b-99c7-f4ecf25767d9",
   "metadata": {},
   "outputs": [
    {
     "data": {
      "text/plain": [
       "array([ 144115188075855872, 5620773809935089664, 4035225266123964416,\n",
       "       1657324662872342528, 5404319552844595200,   72057594037927936,\n",
       "        144115188075855872,  216172782113783808,  288230376151711744])"
      ]
     },
     "execution_count": 28,
     "metadata": {},
     "output_type": "execute_result"
    }
   ],
   "source": [
    "ar.byteswap()"
   ]
  },
  {
   "cell_type": "code",
   "execution_count": 29,
   "id": "e8d29cbc-1197-4bdd-8131-e2cc05832fe5",
   "metadata": {},
   "outputs": [],
   "source": [
    "#numpy- copies and views"
   ]
  },
  {
   "cell_type": "code",
   "execution_count": 30,
   "id": "a8ba3f1e-5624-461c-893f-c25ddba7a0c3",
   "metadata": {},
   "outputs": [
    {
     "data": {
      "text/plain": [
       "array([  2, 334,  56,  23,  75,   1,   2,   3,   4])"
      ]
     },
     "execution_count": 30,
     "metadata": {},
     "output_type": "execute_result"
    }
   ],
   "source": [
    "ar"
   ]
  },
  {
   "cell_type": "code",
   "execution_count": 33,
   "id": "b35c8543-0316-4184-b5d5-960c0ae8d8b2",
   "metadata": {},
   "outputs": [],
   "source": [
    "a=np.copy(ar) #deep copy"
   ]
  },
  {
   "cell_type": "code",
   "execution_count": 34,
   "id": "a5a50f5e-3bf7-4524-a473-0c3b0775b5b6",
   "metadata": {},
   "outputs": [
    {
     "data": {
      "text/plain": [
       "array([  2, 334,  56,  23,  75,   1,   2,   3,   4])"
      ]
     },
     "execution_count": 34,
     "metadata": {},
     "output_type": "execute_result"
    }
   ],
   "source": [
    "a"
   ]
  },
  {
   "cell_type": "code",
   "execution_count": 35,
   "id": "cc183d39-677c-40a0-9f5e-b9e4323e38a5",
   "metadata": {},
   "outputs": [],
   "source": [
    "b=ar.view()"
   ]
  },
  {
   "cell_type": "code",
   "execution_count": null,
   "id": "458dc3c8-4fc1-44c4-a0bf-9b8daa9eaa55",
   "metadata": {},
   "outputs": [],
   "source": [
    "b=ar # swalow copy"
   ]
  },
  {
   "cell_type": "code",
   "execution_count": 36,
   "id": "f6665f8f-d212-4b69-85c3-55c8aded38d3",
   "metadata": {},
   "outputs": [
    {
     "data": {
      "text/plain": [
       "array([  2, 334,  56,  23,  75,   1,   2,   3,   4])"
      ]
     },
     "execution_count": 36,
     "metadata": {},
     "output_type": "execute_result"
    }
   ],
   "source": [
    "b"
   ]
  },
  {
   "cell_type": "code",
   "execution_count": 37,
   "id": "22de856e-25c9-4487-9eea-7e5742249c66",
   "metadata": {},
   "outputs": [
    {
     "data": {
      "text/plain": [
       "array([  2, 334,  56,  23,  75,   1,   2,   3,   4])"
      ]
     },
     "execution_count": 37,
     "metadata": {},
     "output_type": "execute_result"
    }
   ],
   "source": [
    "ar"
   ]
  },
  {
   "cell_type": "code",
   "execution_count": 41,
   "id": "79db6083-40b0-4565-a7c6-d2da41c526c7",
   "metadata": {},
   "outputs": [],
   "source": [
    "b[0]=34 # swalow copy"
   ]
  },
  {
   "cell_type": "code",
   "execution_count": 42,
   "id": "1eac0d6f-9e83-47ff-8aa6-c34e50cbcbfc",
   "metadata": {},
   "outputs": [
    {
     "data": {
      "text/plain": [
       "array([ 34, 334,  56,  23,  75,   1,   2,   3,   4])"
      ]
     },
     "execution_count": 42,
     "metadata": {},
     "output_type": "execute_result"
    }
   ],
   "source": [
    "b"
   ]
  },
  {
   "cell_type": "code",
   "execution_count": 43,
   "id": "0bf94aa3-ad87-4409-936b-865478edd03c",
   "metadata": {},
   "outputs": [
    {
     "data": {
      "text/plain": [
       "array([ 34, 334,  56,  23,  75,   1,   2,   3,   4])"
      ]
     },
     "execution_count": 43,
     "metadata": {},
     "output_type": "execute_result"
    }
   ],
   "source": [
    "ar"
   ]
  },
  {
   "cell_type": "code",
   "execution_count": 44,
   "id": "cf0c2d97-08f5-4d39-adeb-ecb0ad2ecdd9",
   "metadata": {},
   "outputs": [],
   "source": [
    " #numpy matrixes"
   ]
  },
  {
   "cell_type": "code",
   "execution_count": 45,
   "id": "1493b0cc-dda9-4324-87a3-a86aa4600557",
   "metadata": {},
   "outputs": [],
   "source": [
    "import numpy.matlib as nm"
   ]
  },
  {
   "cell_type": "code",
   "execution_count": 46,
   "id": "78a899ba-c5de-4d0e-9154-c36d66cc25b8",
   "metadata": {},
   "outputs": [
    {
     "data": {
      "text/plain": [
       "matrix([[0., 0., 0., 0.]])"
      ]
     },
     "execution_count": 46,
     "metadata": {},
     "output_type": "execute_result"
    }
   ],
   "source": [
    "nm.zeros(4)"
   ]
  },
  {
   "cell_type": "code",
   "execution_count": 47,
   "id": "a624ea20-4f30-4d07-9b37-dab11b7e6fff",
   "metadata": {},
   "outputs": [
    {
     "data": {
      "text/plain": [
       "matrix([[1., 1., 1., 1., 1., 1.],\n",
       "        [1., 1., 1., 1., 1., 1.],\n",
       "        [1., 1., 1., 1., 1., 1.],\n",
       "        [1., 1., 1., 1., 1., 1.]])"
      ]
     },
     "execution_count": 47,
     "metadata": {},
     "output_type": "execute_result"
    }
   ],
   "source": [
    "nm.ones((4,6))"
   ]
  },
  {
   "cell_type": "code",
   "execution_count": 49,
   "id": "fbbd438c-6ebb-46d1-b303-fa679b70b134",
   "metadata": {},
   "outputs": [
    {
     "data": {
      "text/plain": [
       "matrix([[1., 0., 0., 0., 0.],\n",
       "        [0., 1., 0., 0., 0.],\n",
       "        [0., 0., 1., 0., 0.],\n",
       "        [0., 0., 0., 1., 0.],\n",
       "        [0., 0., 0., 0., 1.]])"
      ]
     },
     "execution_count": 49,
     "metadata": {},
     "output_type": "execute_result"
    }
   ],
   "source": [
    "#identity matrix\n",
    "nm.eye(5)"
   ]
  },
  {
   "cell_type": "code",
   "execution_count": 50,
   "id": "71cb3df3-6762-4d8c-86c1-a4817928d0fa",
   "metadata": {},
   "outputs": [],
   "source": [
    "#numpy linear algebra"
   ]
  },
  {
   "cell_type": "code",
   "execution_count": 57,
   "id": "7053622b-2276-4272-9929-bf9b8896a15b",
   "metadata": {},
   "outputs": [],
   "source": [
    "ar1=np.array([[2,3],[4,5]])\n",
    "ar2=np.array([[5,3],[2,5]])"
   ]
  },
  {
   "cell_type": "code",
   "execution_count": 58,
   "id": "b641e2b3-2f55-46fb-8fe9-b1569962ecb6",
   "metadata": {},
   "outputs": [
    {
     "data": {
      "text/plain": [
       "array([[2, 3],\n",
       "       [4, 5]])"
      ]
     },
     "execution_count": 58,
     "metadata": {},
     "output_type": "execute_result"
    }
   ],
   "source": [
    "ar1"
   ]
  },
  {
   "cell_type": "code",
   "execution_count": 59,
   "id": "cd89b3da-6bd7-4a61-9ea1-84f81342028a",
   "metadata": {},
   "outputs": [
    {
     "data": {
      "text/plain": [
       "array([[5, 3],\n",
       "       [2, 5]])"
      ]
     },
     "execution_count": 59,
     "metadata": {},
     "output_type": "execute_result"
    }
   ],
   "source": [
    "ar2"
   ]
  },
  {
   "cell_type": "code",
   "execution_count": 60,
   "id": "c2df3813-2724-4691-8355-0006b4166c6d",
   "metadata": {},
   "outputs": [
    {
     "data": {
      "text/plain": [
       "array([[16, 21],\n",
       "       [30, 37]])"
      ]
     },
     "execution_count": 60,
     "metadata": {},
     "output_type": "execute_result"
    }
   ],
   "source": [
    "np.dot(ar1,ar2)"
   ]
  },
  {
   "cell_type": "code",
   "execution_count": 62,
   "id": "6dfad2e9-cc5a-4703-943d-02db168a1b42",
   "metadata": {},
   "outputs": [
    {
     "data": {
      "text/plain": [
       "array([[16, 21],\n",
       "       [30, 37]])"
      ]
     },
     "execution_count": 62,
     "metadata": {},
     "output_type": "execute_result"
    }
   ],
   "source": [
    "ar1@ar2"
   ]
  },
  {
   "cell_type": "code",
   "execution_count": null,
   "id": "c91f636e-a83a-4dbe-9831-e368dc4bc67c",
   "metadata": {},
   "outputs": [],
   "source": []
  }
 ],
 "metadata": {
  "kernelspec": {
   "display_name": "Python 3 (ipykernel)",
   "language": "python",
   "name": "python3"
  },
  "language_info": {
   "codemirror_mode": {
    "name": "ipython",
    "version": 3
   },
   "file_extension": ".py",
   "mimetype": "text/x-python",
   "name": "python",
   "nbconvert_exporter": "python",
   "pygments_lexer": "ipython3",
   "version": "3.10.8"
  }
 },
 "nbformat": 4,
 "nbformat_minor": 5
}
