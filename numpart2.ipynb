{
 "cells": [
  {
   "cell_type": "code",
   "execution_count": 3,
   "id": "08c26529-5a27-42b7-8cff-ad57ced22b94",
   "metadata": {},
   "outputs": [],
   "source": [
    "import numpy as np"
   ]
  },
  {
   "cell_type": "code",
   "execution_count": 12,
   "id": "78fac467-73f5-48bc-9331-e55328551f68",
   "metadata": {},
   "outputs": [],
   "source": [
    "arr=np.random.randint(1,3,(2,4))"
   ]
  },
  {
   "cell_type": "code",
   "execution_count": 13,
   "id": "df31af37-3ab7-40fd-9480-4de94282061d",
   "metadata": {},
   "outputs": [
    {
     "data": {
      "text/plain": [
       "array([[2, 1, 2, 2],\n",
       "       [2, 1, 2, 2]])"
      ]
     },
     "execution_count": 13,
     "metadata": {},
     "output_type": "execute_result"
    }
   ],
   "source": [
    "arr"
   ]
  },
  {
   "cell_type": "code",
   "execution_count": 15,
   "id": "78a75822-ccab-4ebe-9bc5-b03ac472ebaf",
   "metadata": {},
   "outputs": [
    {
     "data": {
      "text/plain": [
       "array([[2, 1],\n",
       "       [2, 2],\n",
       "       [2, 1],\n",
       "       [2, 2]])"
      ]
     },
     "execution_count": 15,
     "metadata": {},
     "output_type": "execute_result"
    }
   ],
   "source": [
    "arr.reshape(4,2)"
   ]
  },
  {
   "cell_type": "code",
   "execution_count": 17,
   "id": "1c66f682-1ed0-400e-96a2-9fd4fc58eecb",
   "metadata": {},
   "outputs": [
    {
     "data": {
      "text/plain": [
       "array([[2, 1, 2, 2],\n",
       "       [2, 1, 2, 2]])"
      ]
     },
     "execution_count": 17,
     "metadata": {},
     "output_type": "execute_result"
    }
   ],
   "source": [
    "arr.reshape(2,4)"
   ]
  },
  {
   "cell_type": "code",
   "execution_count": 18,
   "id": "a600ec45-4a4e-4364-a3a9-9d7c4079d241",
   "metadata": {},
   "outputs": [
    {
     "data": {
      "text/plain": [
       "array([[2, 2],\n",
       "       [1, 1],\n",
       "       [2, 2],\n",
       "       [2, 2]])"
      ]
     },
     "execution_count": 18,
     "metadata": {},
     "output_type": "execute_result"
    }
   ],
   "source": [
    "arr.T"
   ]
  },
  {
   "cell_type": "code",
   "execution_count": 20,
   "id": "307af49c-b38c-41fe-b73f-63555582c4f4",
   "metadata": {},
   "outputs": [
    {
     "data": {
      "text/plain": [
       "array([2, 1, 2, 2, 2, 1, 2, 2])"
      ]
     },
     "execution_count": 20,
     "metadata": {},
     "output_type": "execute_result"
    }
   ],
   "source": [
    "arr.flatten()"
   ]
  },
  {
   "cell_type": "code",
   "execution_count": 21,
   "id": "b8d6707f-a61e-40c6-80d5-43b04353b929",
   "metadata": {},
   "outputs": [],
   "source": [
    "arr1=np.array([1,2,3,4,5])"
   ]
  },
  {
   "cell_type": "code",
   "execution_count": 22,
   "id": "2687e811-17ca-48a9-873f-f653abd5e1ab",
   "metadata": {},
   "outputs": [
    {
     "data": {
      "text/plain": [
       "1"
      ]
     },
     "execution_count": 22,
     "metadata": {},
     "output_type": "execute_result"
    }
   ],
   "source": [
    "arr1.ndim"
   ]
  },
  {
   "cell_type": "code",
   "execution_count": 24,
   "id": "d00ce058-225b-4b02-8bec-9dcfdb9c2f17",
   "metadata": {},
   "outputs": [
    {
     "data": {
      "text/plain": [
       "array([[1],\n",
       "       [2],\n",
       "       [3],\n",
       "       [4],\n",
       "       [5]])"
      ]
     },
     "execution_count": 24,
     "metadata": {},
     "output_type": "execute_result"
    }
   ],
   "source": [
    "np.expand_dims(arr1,axis=1)"
   ]
  },
  {
   "cell_type": "code",
   "execution_count": 25,
   "id": "3c5164b7-a58a-488a-af38-8c23f922e503",
   "metadata": {},
   "outputs": [
    {
     "data": {
      "text/plain": [
       "array([[1, 2, 3, 4, 5]])"
      ]
     },
     "execution_count": 25,
     "metadata": {},
     "output_type": "execute_result"
    }
   ],
   "source": [
    "np.expand_dims(arr1,axis=0)"
   ]
  },
  {
   "cell_type": "code",
   "execution_count": 26,
   "id": "cfba4bcb-becd-4851-8dac-e7e37305028d",
   "metadata": {},
   "outputs": [
    {
     "data": {
      "text/plain": [
       "array([[2, 1, 2, 2],\n",
       "       [2, 1, 2, 2]])"
      ]
     },
     "execution_count": 26,
     "metadata": {},
     "output_type": "execute_result"
    }
   ],
   "source": [
    "arr"
   ]
  },
  {
   "cell_type": "code",
   "execution_count": 27,
   "id": "35d1b764-df5f-4f83-80cd-f9ca59d9ecb6",
   "metadata": {},
   "outputs": [
    {
     "data": {
      "text/plain": [
       "array([[2, 1, 2, 2],\n",
       "       [2, 1, 2, 2]])"
      ]
     },
     "execution_count": 27,
     "metadata": {},
     "output_type": "execute_result"
    }
   ],
   "source": [
    "np.squeeze(arr)"
   ]
  },
  {
   "cell_type": "code",
   "execution_count": 30,
   "id": "d9e34bf9-9cdf-4116-99c8-82dd995b8370",
   "metadata": {},
   "outputs": [],
   "source": [
    "dta=np.array([[1],[4],[7],[7]])"
   ]
  },
  {
   "cell_type": "code",
   "execution_count": 31,
   "id": "bd6550cb-d2c2-45da-8a7d-47dade4a1f44",
   "metadata": {},
   "outputs": [
    {
     "data": {
      "text/plain": [
       "array([[1],\n",
       "       [4],\n",
       "       [7],\n",
       "       [7]])"
      ]
     },
     "execution_count": 31,
     "metadata": {},
     "output_type": "execute_result"
    }
   ],
   "source": [
    "dta"
   ]
  },
  {
   "cell_type": "code",
   "execution_count": 32,
   "id": "ae8cafa1-76c1-42ad-b79d-abbd6dcf094c",
   "metadata": {},
   "outputs": [
    {
     "data": {
      "text/plain": [
       "array([1, 4, 7, 7])"
      ]
     },
     "execution_count": 32,
     "metadata": {},
     "output_type": "execute_result"
    }
   ],
   "source": [
    "np.squeeze(dta)"
   ]
  },
  {
   "cell_type": "code",
   "execution_count": 33,
   "id": "6133719b-3522-4277-a686-40e3fd424bf0",
   "metadata": {},
   "outputs": [
    {
     "data": {
      "text/plain": [
       "array([1, 2, 3, 4, 5])"
      ]
     },
     "execution_count": 33,
     "metadata": {},
     "output_type": "execute_result"
    }
   ],
   "source": [
    "arr1"
   ]
  },
  {
   "cell_type": "code",
   "execution_count": 35,
   "id": "97165872-d522-4db2-9526-28a72e11131c",
   "metadata": {},
   "outputs": [
    {
     "data": {
      "text/plain": [
       "array([1, 1, 1, 1, 1, 1, 2, 2, 2, 2, 2, 2, 3, 3, 3, 3, 3, 3, 4, 4, 4, 4,\n",
       "       4, 4, 5, 5, 5, 5, 5, 5])"
      ]
     },
     "execution_count": 35,
     "metadata": {},
     "output_type": "execute_result"
    }
   ],
   "source": [
    "np.repeat(arr1,6)"
   ]
  },
  {
   "cell_type": "code",
   "execution_count": 36,
   "id": "58b414e1-bc74-4553-8017-5ee7232bd28c",
   "metadata": {},
   "outputs": [
    {
     "data": {
      "text/plain": [
       "array([4, 5, 1, 2, 3])"
      ]
     },
     "execution_count": 36,
     "metadata": {},
     "output_type": "execute_result"
    }
   ],
   "source": [
    "np.roll(arr1,shift=2) # index me 2+ krega"
   ]
  },
  {
   "cell_type": "code",
   "execution_count": 37,
   "id": "0e2db47e-e436-46d6-abef-1a739983e9e4",
   "metadata": {},
   "outputs": [
    {
     "data": {
      "text/plain": [
       "array([[1, 0, 0, 0, 0],\n",
       "       [0, 2, 0, 0, 0],\n",
       "       [0, 0, 3, 0, 0],\n",
       "       [0, 0, 0, 4, 0],\n",
       "       [0, 0, 0, 0, 5]])"
      ]
     },
     "execution_count": 37,
     "metadata": {},
     "output_type": "execute_result"
    }
   ],
   "source": [
    "np.diag(arr1)"
   ]
  },
  {
   "cell_type": "code",
   "execution_count": 38,
   "id": "273b41c6-3411-4ab1-8e1c-f7439b67de4f",
   "metadata": {},
   "outputs": [],
   "source": [
    "#numpy - Binary operation"
   ]
  },
  {
   "cell_type": "code",
   "execution_count": 39,
   "id": "7b15eb75-0b0f-4bef-86fc-b036bd410740",
   "metadata": {},
   "outputs": [],
   "source": [
    "arr2=np.random.randint(1,10,(3,4))\n",
    "arr3=np.random.randint(1,10,(3,4))"
   ]
  },
  {
   "cell_type": "code",
   "execution_count": 40,
   "id": "86f521d6-3670-4f06-822d-885c3fe4813d",
   "metadata": {},
   "outputs": [
    {
     "data": {
      "text/plain": [
       "array([[7, 8, 4, 1],\n",
       "       [2, 6, 2, 8],\n",
       "       [9, 5, 1, 9]])"
      ]
     },
     "execution_count": 40,
     "metadata": {},
     "output_type": "execute_result"
    }
   ],
   "source": [
    "arr2"
   ]
  },
  {
   "cell_type": "code",
   "execution_count": 41,
   "id": "4941a36c-9258-4eb9-8868-2ba12ebfed17",
   "metadata": {},
   "outputs": [
    {
     "data": {
      "text/plain": [
       "array([[5, 2, 3, 9],\n",
       "       [2, 1, 7, 7],\n",
       "       [7, 7, 5, 4]])"
      ]
     },
     "execution_count": 41,
     "metadata": {},
     "output_type": "execute_result"
    }
   ],
   "source": [
    "arr3"
   ]
  },
  {
   "cell_type": "code",
   "execution_count": 42,
   "id": "92ca1cd7-bd52-4882-a98b-f2a2b8223bf4",
   "metadata": {},
   "outputs": [
    {
     "data": {
      "text/plain": [
       "array([[49, 64, 16,  1],\n",
       "       [ 4, 36,  4, 64],\n",
       "       [81, 25,  1, 81]])"
      ]
     },
     "execution_count": 42,
     "metadata": {},
     "output_type": "execute_result"
    }
   ],
   "source": [
    "arr2*arr3"
   ]
  },
  {
   "cell_type": "code",
   "execution_count": 43,
   "id": "ef901a61-f952-49f6-9f70-418fa38c7141",
   "metadata": {},
   "outputs": [
    {
     "data": {
      "text/plain": [
       "array([[12, 10,  7, 10],\n",
       "       [ 4,  7,  9, 15],\n",
       "       [16, 12,  6, 13]])"
      ]
     },
     "execution_count": 43,
     "metadata": {},
     "output_type": "execute_result"
    }
   ],
   "source": [
    "arr2+arr3"
   ]
  },
  {
   "cell_type": "code",
   "execution_count": 44,
   "id": "65b5e7ab-9763-4076-878d-9430f4b5b56a",
   "metadata": {},
   "outputs": [
    {
     "data": {
      "text/plain": [
       "array([[2, 0, 1, 1],\n",
       "       [0, 0, 2, 1],\n",
       "       [2, 5, 1, 1]])"
      ]
     },
     "execution_count": 44,
     "metadata": {},
     "output_type": "execute_result"
    }
   ],
   "source": [
    "arr2%arr3"
   ]
  },
  {
   "cell_type": "code",
   "execution_count": 45,
   "id": "4b675b92-6c99-4508-a621-b5fa0d5993da",
   "metadata": {},
   "outputs": [
    {
     "data": {
      "text/plain": [
       "array([[1.4       , 4.        , 1.33333333, 0.11111111],\n",
       "       [1.        , 6.        , 0.28571429, 1.14285714],\n",
       "       [1.28571429, 0.71428571, 0.2       , 2.25      ]])"
      ]
     },
     "execution_count": 45,
     "metadata": {},
     "output_type": "execute_result"
    }
   ],
   "source": [
    "arr2/arr3"
   ]
  },
  {
   "cell_type": "code",
   "execution_count": 46,
   "id": "341a1eb7-5f46-4ef1-8ed8-2e2279722605",
   "metadata": {},
   "outputs": [
    {
     "data": {
      "text/plain": [
       "array([[  16807,      64,      64,       1],\n",
       "       [      4,       6,     128, 2097152],\n",
       "       [4782969,   78125,       1,    6561]])"
      ]
     },
     "execution_count": 46,
     "metadata": {},
     "output_type": "execute_result"
    }
   ],
   "source": [
    "arr2**arr3"
   ]
  },
  {
   "cell_type": "code",
   "execution_count": 49,
   "id": "e873caf4-d533-4303-8352-34d60a2c4c12",
   "metadata": {},
   "outputs": [
    {
     "data": {
      "text/plain": [
       "array([[7, 8, 4, 1],\n",
       "       [2, 6, 2, 8],\n",
       "       [9, 5, 1, 9]])"
      ]
     },
     "execution_count": 49,
     "metadata": {},
     "output_type": "execute_result"
    }
   ],
   "source": [
    "arr2"
   ]
  },
  {
   "cell_type": "code",
   "execution_count": 50,
   "id": "dd3a8bf7-1387-48aa-9c5f-7b720e627db8",
   "metadata": {},
   "outputs": [
    {
     "data": {
      "text/plain": [
       "array([[5, 2, 3, 9],\n",
       "       [2, 1, 7, 7],\n",
       "       [7, 7, 5, 4]])"
      ]
     },
     "execution_count": 50,
     "metadata": {},
     "output_type": "execute_result"
    }
   ],
   "source": [
    "arr3"
   ]
  },
  {
   "cell_type": "code",
   "execution_count": 48,
   "id": "cad147e2-736d-4d08-b313-7c17bac13960",
   "metadata": {},
   "outputs": [
    {
     "data": {
      "text/plain": [
       "array([[5, 0, 0, 1],\n",
       "       [2, 0, 2, 0],\n",
       "       [1, 5, 1, 0]])"
      ]
     },
     "execution_count": 48,
     "metadata": {},
     "output_type": "execute_result"
    }
   ],
   "source": [
    "arr2 & arr3"
   ]
  },
  {
   "cell_type": "code",
   "execution_count": 51,
   "id": "21c3c4cb-0ed2-4ae6-8fff-e4f4fa8d5d39",
   "metadata": {},
   "outputs": [
    {
     "data": {
      "text/plain": [
       "array([[ 7, 10,  7,  9],\n",
       "       [ 2,  7,  7, 15],\n",
       "       [15,  7,  5, 13]])"
      ]
     },
     "execution_count": 51,
     "metadata": {},
     "output_type": "execute_result"
    }
   ],
   "source": [
    "arr2 | arr3"
   ]
  },
  {
   "cell_type": "code",
   "execution_count": 53,
   "id": "0b65590c-e83c-4b91-85d3-9a7aa77552b8",
   "metadata": {},
   "outputs": [
    {
     "data": {
      "text/plain": [
       "array([[-7, -8, -4, -1],\n",
       "       [-2, -6, -2, -8],\n",
       "       [-9, -5, -1, -9]])"
      ]
     },
     "execution_count": 53,
     "metadata": {},
     "output_type": "execute_result"
    }
   ],
   "source": [
    "-arr2"
   ]
  },
  {
   "cell_type": "code",
   "execution_count": 52,
   "id": "d81a92af-bae7-4d50-a98e-2f4453f568bf",
   "metadata": {},
   "outputs": [
    {
     "data": {
      "text/plain": [
       "array([[ True,  True,  True, False],\n",
       "       [False,  True, False,  True],\n",
       "       [ True, False, False,  True]])"
      ]
     },
     "execution_count": 52,
     "metadata": {},
     "output_type": "execute_result"
    }
   ],
   "source": [
    "arr2 > arr3"
   ]
  },
  {
   "cell_type": "code",
   "execution_count": 54,
   "id": "6b4442d7-e00e-40be-b8a2-9739da9249c6",
   "metadata": {},
   "outputs": [],
   "source": [
    "#numpy in string function"
   ]
  },
  {
   "cell_type": "code",
   "execution_count": 56,
   "id": "1bd3fa4a-54db-4b7a-83f6-b55929954ba8",
   "metadata": {},
   "outputs": [],
   "source": [
    "arr=np.array([\"yashh\",\"pancharya\"])"
   ]
  },
  {
   "cell_type": "code",
   "execution_count": 57,
   "id": "bfbfd374-3b38-4cda-81e5-31b4e63b10e3",
   "metadata": {},
   "outputs": [
    {
     "data": {
      "text/plain": [
       "array(['yashh', 'pancharya'], dtype='<U9')"
      ]
     },
     "execution_count": 57,
     "metadata": {},
     "output_type": "execute_result"
    }
   ],
   "source": [
    "arr"
   ]
  },
  {
   "cell_type": "code",
   "execution_count": 58,
   "id": "dbeb61a8-8a28-4892-8146-54fa1efa227e",
   "metadata": {},
   "outputs": [
    {
     "data": {
      "text/plain": [
       "array(['YASHH', 'PANCHARYA'], dtype='<U9')"
      ]
     },
     "execution_count": 58,
     "metadata": {},
     "output_type": "execute_result"
    }
   ],
   "source": [
    "np.char.upper(arr)"
   ]
  },
  {
   "cell_type": "code",
   "execution_count": 59,
   "id": "eb94b33b-7b0b-498e-aa01-a9c26371354a",
   "metadata": {},
   "outputs": [
    {
     "data": {
      "text/plain": [
       "array(['Yashh', 'Pancharya'], dtype='<U9')"
      ]
     },
     "execution_count": 59,
     "metadata": {},
     "output_type": "execute_result"
    }
   ],
   "source": [
    "np.char.title(arr)"
   ]
  },
  {
   "cell_type": "code",
   "execution_count": 60,
   "id": "6b472600-f00f-4a5c-acd5-b94e2b6486ab",
   "metadata": {},
   "outputs": [
    {
     "data": {
      "text/plain": [
       "array(['yashh', 'pancharya'], dtype='<U9')"
      ]
     },
     "execution_count": 60,
     "metadata": {},
     "output_type": "execute_result"
    }
   ],
   "source": [
    "np.char.lower(arr)"
   ]
  },
  {
   "cell_type": "code",
   "execution_count": 61,
   "id": "4a251149-395e-4fcf-a021-e5c270d32455",
   "metadata": {},
   "outputs": [],
   "source": [
    "#numpy - mathematical  function"
   ]
  },
  {
   "cell_type": "code",
   "execution_count": 62,
   "id": "93f3d5f3-7d3d-4e72-924d-35af126b2575",
   "metadata": {},
   "outputs": [
    {
     "data": {
      "text/plain": [
       "array([[7, 8, 4, 1],\n",
       "       [2, 6, 2, 8],\n",
       "       [9, 5, 1, 9]])"
      ]
     },
     "execution_count": 62,
     "metadata": {},
     "output_type": "execute_result"
    }
   ],
   "source": [
    "arr2"
   ]
  },
  {
   "cell_type": "code",
   "execution_count": 63,
   "id": "5efc7b79-a54c-4547-8adc-c9e40549cba6",
   "metadata": {},
   "outputs": [
    {
     "data": {
      "text/plain": [
       "array([[ 0.6569866 ,  0.98935825, -0.7568025 ,  0.84147098],\n",
       "       [ 0.90929743, -0.2794155 ,  0.90929743,  0.98935825],\n",
       "       [ 0.41211849, -0.95892427,  0.84147098,  0.41211849]])"
      ]
     },
     "execution_count": 63,
     "metadata": {},
     "output_type": "execute_result"
    }
   ],
   "source": [
    "np.sin(arr2)"
   ]
  },
  {
   "cell_type": "code",
   "execution_count": 64,
   "id": "e2ca2748-0885-44fb-8f62-bf704b42cf85",
   "metadata": {},
   "outputs": [
    {
     "data": {
      "text/plain": [
       "array([[ 0.75390225, -0.14550003, -0.65364362,  0.54030231],\n",
       "       [-0.41614684,  0.96017029, -0.41614684, -0.14550003],\n",
       "       [-0.91113026,  0.28366219,  0.54030231, -0.91113026]])"
      ]
     },
     "execution_count": 64,
     "metadata": {},
     "output_type": "execute_result"
    }
   ],
   "source": [
    "np.cos(arr2)"
   ]
  },
  {
   "cell_type": "code",
   "execution_count": 65,
   "id": "a1dd8110-ede3-4a7f-bf8d-8d2a40b90af3",
   "metadata": {},
   "outputs": [
    {
     "data": {
      "text/plain": [
       "array([[ 0.87144798, -6.79971146,  1.15782128,  1.55740772],\n",
       "       [-2.18503986, -0.29100619, -2.18503986, -6.79971146],\n",
       "       [-0.45231566, -3.38051501,  1.55740772, -0.45231566]])"
      ]
     },
     "execution_count": 65,
     "metadata": {},
     "output_type": "execute_result"
    }
   ],
   "source": [
    "np.tan(arr2)"
   ]
  },
  {
   "cell_type": "code",
   "execution_count": 66,
   "id": "31dd04d8-288d-42a3-926a-97e36bcc8f18",
   "metadata": {},
   "outputs": [
    {
     "data": {
      "text/plain": [
       "array([[0.99999834, 0.99999977, 0.9993293 , 0.76159416],\n",
       "       [0.96402758, 0.99998771, 0.96402758, 0.99999977],\n",
       "       [0.99999997, 0.9999092 , 0.76159416, 0.99999997]])"
      ]
     },
     "execution_count": 66,
     "metadata": {},
     "output_type": "execute_result"
    }
   ],
   "source": [
    "np.tanh(arr2)"
   ]
  },
  {
   "cell_type": "code",
   "execution_count": 67,
   "id": "d8fcfc24-ff58-46ab-9371-3414f59bfa8e",
   "metadata": {},
   "outputs": [
    {
     "data": {
      "text/plain": [
       "array([[0.84509804, 0.90308999, 0.60205999, 0.        ],\n",
       "       [0.30103   , 0.77815125, 0.30103   , 0.90308999],\n",
       "       [0.95424251, 0.69897   , 0.        , 0.95424251]])"
      ]
     },
     "execution_count": 67,
     "metadata": {},
     "output_type": "execute_result"
    }
   ],
   "source": [
    "np.log10(arr2)"
   ]
  },
  {
   "cell_type": "code",
   "execution_count": 68,
   "id": "11187423-4ebc-4079-86ca-011d7fd0b786",
   "metadata": {},
   "outputs": [
    {
     "data": {
      "text/plain": [
       "array([[1.09663316e+03, 2.98095799e+03, 5.45981500e+01, 2.71828183e+00],\n",
       "       [7.38905610e+00, 4.03428793e+02, 7.38905610e+00, 2.98095799e+03],\n",
       "       [8.10308393e+03, 1.48413159e+02, 2.71828183e+00, 8.10308393e+03]])"
      ]
     },
     "execution_count": 68,
     "metadata": {},
     "output_type": "execute_result"
    }
   ],
   "source": [
    "np.exp(arr2)"
   ]
  },
  {
   "cell_type": "code",
   "execution_count": 70,
   "id": "9c297dc7-142f-410a-909b-eddf38bda759",
   "metadata": {},
   "outputs": [
    {
     "data": {
      "text/plain": [
       "array([[2.64575131, 2.82842712, 2.        , 1.        ],\n",
       "       [1.41421356, 2.44948974, 1.41421356, 2.82842712],\n",
       "       [3.        , 2.23606798, 1.        , 3.        ]])"
      ]
     },
     "execution_count": 70,
     "metadata": {},
     "output_type": "execute_result"
    }
   ],
   "source": [
    "np.sqrt(arr2)"
   ]
  },
  {
   "cell_type": "code",
   "execution_count": 71,
   "id": "49f38008-e3d2-42ae-b35f-a905068be5e1",
   "metadata": {},
   "outputs": [
    {
     "data": {
      "text/plain": [
       "array([[343, 512,  64,   1],\n",
       "       [  8, 216,   8, 512],\n",
       "       [729, 125,   1, 729]])"
      ]
     },
     "execution_count": 71,
     "metadata": {},
     "output_type": "execute_result"
    }
   ],
   "source": [
    "np.power(arr2,3)"
   ]
  },
  {
   "cell_type": "code",
   "execution_count": 72,
   "id": "8c94cb47-3d19-4fa4-86a0-4b20ef59708d",
   "metadata": {},
   "outputs": [
    {
     "data": {
      "text/plain": [
       "5.166666666666667"
      ]
     },
     "execution_count": 72,
     "metadata": {},
     "output_type": "execute_result"
    }
   ],
   "source": [
    "np.mean(arr2)"
   ]
  },
  {
   "cell_type": "code",
   "execution_count": 74,
   "id": "2860f1f3-ccd9-46a2-8286-9233e9089035",
   "metadata": {},
   "outputs": [
    {
     "data": {
      "text/plain": [
       "5.5"
      ]
     },
     "execution_count": 74,
     "metadata": {},
     "output_type": "execute_result"
    }
   ],
   "source": [
    "np.median(arr2)"
   ]
  },
  {
   "cell_type": "code",
   "execution_count": 75,
   "id": "0a5caa6a-9c95-49c9-9400-b782dd2b0362",
   "metadata": {},
   "outputs": [
    {
     "data": {
      "text/plain": [
       "2.9674156357941426"
      ]
     },
     "execution_count": 75,
     "metadata": {},
     "output_type": "execute_result"
    }
   ],
   "source": [
    "np.std(arr2)"
   ]
  },
  {
   "cell_type": "code",
   "execution_count": 76,
   "id": "2ffbed7d-ada6-4338-a977-5dadf4d450db",
   "metadata": {},
   "outputs": [
    {
     "data": {
      "text/plain": [
       "8.805555555555555"
      ]
     },
     "execution_count": 76,
     "metadata": {},
     "output_type": "execute_result"
    }
   ],
   "source": [
    "np.var(arr2)"
   ]
  },
  {
   "cell_type": "code",
   "execution_count": 77,
   "id": "6ff45f1c-5799-45a2-87f0-353ccd1cc666",
   "metadata": {},
   "outputs": [
    {
     "data": {
      "text/plain": [
       "1"
      ]
     },
     "execution_count": 77,
     "metadata": {},
     "output_type": "execute_result"
    }
   ],
   "source": [
    "np.min(arr2)"
   ]
  },
  {
   "cell_type": "code",
   "execution_count": 78,
   "id": "ec236606-04bc-4f14-95e0-4e3bab34987c",
   "metadata": {},
   "outputs": [
    {
     "data": {
      "text/plain": [
       "9"
      ]
     },
     "execution_count": 78,
     "metadata": {},
     "output_type": "execute_result"
    }
   ],
   "source": [
    "np.max(arr2)"
   ]
  },
  {
   "cell_type": "code",
   "execution_count": null,
   "id": "219cf629-e243-4584-8044-cc87dd8aad63",
   "metadata": {},
   "outputs": [],
   "source": []
  }
 ],
 "metadata": {
  "kernelspec": {
   "display_name": "Python 3 (ipykernel)",
   "language": "python",
   "name": "python3"
  },
  "language_info": {
   "codemirror_mode": {
    "name": "ipython",
    "version": 3
   },
   "file_extension": ".py",
   "mimetype": "text/x-python",
   "name": "python",
   "nbconvert_exporter": "python",
   "pygments_lexer": "ipython3",
   "version": "3.10.8"
  }
 },
 "nbformat": 4,
 "nbformat_minor": 5
}
