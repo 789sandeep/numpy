{
 "cells": [
  {
   "cell_type": "code",
   "execution_count": 95,
   "id": "9c9e7c01-fa3e-4c02-88bd-b4cd3232d896",
   "metadata": {},
   "outputs": [],
   "source": [
    "import numpy as np"
   ]
  },
  {
   "cell_type": "code",
   "execution_count": 96,
   "id": "ad8bbb28-31d1-41c3-b2c0-807c18f371df",
   "metadata": {},
   "outputs": [
    {
     "name": "stdout",
     "output_type": "stream",
     "text": [
      "int64\n",
      "<U5\n"
     ]
    }
   ],
   "source": [
    "array_list=[1,2,3,4,5]\n",
    "variable_list=[\"hello\",\"how\",\"are\",\"you\"]\n",
    "l=np.array(object=array_list)\n",
    "ls=np.array(object=variable_list)\n",
    "print(l.dtype)\n",
    "print(ls.dtype)"
   ]
  },
  {
   "cell_type": "code",
   "execution_count": 100,
   "id": "1da86c45-e3a4-4157-93c3-c5cd0a458eb0",
   "metadata": {},
   "outputs": [
    {
     "name": "stdout",
     "output_type": "stream",
     "text": [
      "int64\n",
      "int64\n",
      "int64\n",
      "<U5\n",
      "<U5\n",
      "<U5\n",
      "<U5\n"
     ]
    }
   ],
   "source": [
    "l=[[1,2,3],[4,5,8],[6,7,8]]\n",
    "lv=[[\"heelo\"],[\"how\"],[\"are\"],[\"you\"]]\n",
    "array_list=np.array(object=l)\n",
    "for i in array_list:\n",
    "    print(i.dtype)\n",
    "variable_list=np.array(object=lv) \n",
    "for i in variable_list:\n",
    "    print(i.dtype)  "
   ]
  },
  {
   "cell_type": "code",
   "execution_count": 75,
   "id": "33c63c1b-25cd-4728-985f-74605b9d63fa",
   "metadata": {},
   "outputs": [
    {
     "name": "stdout",
     "output_type": "stream",
     "text": [
      "<class 'int'>\n",
      "<class 'int'>\n",
      "<class 'int'>\n",
      "<class 'int'>\n",
      "<class 'int'>\n",
      "int64\n",
      "int64\n",
      "int64\n",
      "int64\n",
      "int64\n"
     ]
    }
   ],
   "source": [
    "list_=[1,2,3,4,5]\n",
    "for i in list_:\n",
    "    print(type(i))\n",
    "array_list=np.array(object=list_,dtype=int)\n",
    "for i in array_list:\n",
    "    print(i.dtype)"
   ]
  },
  {
   "cell_type": "code",
   "execution_count": 78,
   "id": "da15c5f8-c7b2-4093-afcd-80b18f37c407",
   "metadata": {},
   "outputs": [
    {
     "name": "stdout",
     "output_type": "stream",
     "text": [
      "(2, 3)\n",
      "6\n"
     ]
    }
   ],
   "source": [
    "num_list = [ [ 1 , 2 , 3 ] , [ 4 , 5 , 6 ] ]\n",
    "num_array = np.array(object = num_list)\n",
    "print(np.shape(num_array))\n",
    "print(np.size(num_array))"
   ]
  },
  {
   "cell_type": "code",
   "execution_count": 83,
   "id": "2c38379e-cf30-4a5d-9e54-0aca0586299e",
   "metadata": {},
   "outputs": [
    {
     "name": "stdout",
     "output_type": "stream",
     "text": [
      "(3, 3)\n",
      "9\n"
     ]
    }
   ],
   "source": [
    "ar=np.zeros((3,3))\n",
    "print(np.shape(ar))\n",
    "print(np.size(ar))"
   ]
  },
  {
   "cell_type": "code",
   "execution_count": 91,
   "id": "57e63960-89e0-492a-b94f-f10234fd0431",
   "metadata": {},
   "outputs": [
    {
     "data": {
      "text/plain": [
       "array([[1., 0., 0., 0., 0.],\n",
       "       [0., 1., 0., 0., 0.],\n",
       "       [0., 0., 1., 0., 0.],\n",
       "       [0., 0., 0., 1., 0.],\n",
       "       [0., 0., 0., 0., 1.]])"
      ]
     },
     "execution_count": 91,
     "metadata": {},
     "output_type": "execute_result"
    }
   ],
   "source": [
    "np.eye(5)"
   ]
  },
  {
   "cell_type": "code",
   "execution_count": 104,
   "id": "79fba749-2652-45f1-a7ba-bb5ab7553abe",
   "metadata": {},
   "outputs": [],
   "source": [
    "array=np.array([1,2,3,4,5])"
   ]
  },
  {
   "cell_type": "code",
   "execution_count": 106,
   "id": "2dc4b986-6692-4634-bc39-1f13370134ff",
   "metadata": {},
   "outputs": [
    {
     "ename": "NameError",
     "evalue": "name 'threshold' is not defined",
     "output_type": "error",
     "traceback": [
      "\u001b[0;31m---------------------------------------------------------------------------\u001b[0m",
      "\u001b[0;31mNameError\u001b[0m                                 Traceback (most recent call last)",
      "Cell \u001b[0;32mIn[106], line 3\u001b[0m\n\u001b[1;32m      1\u001b[0m \u001b[38;5;28;01mfor\u001b[39;00m i \u001b[38;5;129;01min\u001b[39;00m np\u001b[38;5;241m.\u001b[39mnditer(array):\n\u001b[0;32m----> 3\u001b[0m     \u001b[38;5;28;01mif\u001b[39;00m i \u001b[38;5;241m<\u001b[39m \u001b[43mthreshold\u001b[49m:\n\u001b[1;32m      5\u001b[0m          i \u001b[38;5;241m=\u001b[39m \u001b[38;5;241m0\u001b[39m\n",
      "\u001b[0;31mNameError\u001b[0m: name 'threshold' is not defined"
     ]
    }
   ],
   "source": [
    "for i in np.nditer(array):\n",
    "\n",
    "    if i < threshold:\n",
    "\n",
    "         i = 0"
   ]
  },
  {
   "cell_type": "code",
   "execution_count": 102,
   "id": "77b67a1f-f575-42f7-b833-800a2c7d3cf7",
   "metadata": {},
   "outputs": [
    {
     "ename": "IndentationError",
     "evalue": "expected an indented block after 'for' statement on line 1 (1949986995.py, line 3)",
     "output_type": "error",
     "traceback": [
      "\u001b[0;36m  Cell \u001b[0;32mIn[102], line 3\u001b[0;36m\u001b[0m\n\u001b[0;31m    for j in range(np.shape(array)[1]):\u001b[0m\n\u001b[0m    ^\u001b[0m\n\u001b[0;31mIndentationError\u001b[0m\u001b[0;31m:\u001b[0m expected an indented block after 'for' statement on line 1\n"
     ]
    }
   ],
   "source": [
    "for i in range(np.shape(array)[0]):\n",
    "\n",
    "for j in range(np.shape(array)[1]):\n",
    "\n",
    "if array[i][j] < threshold:\n",
    "\n",
    "array[i][j] = 0"
   ]
  },
  {
   "cell_type": "code",
   "execution_count": 103,
   "id": "1c988a7c-7e62-4dbc-a23b-80e72af6b514",
   "metadata": {},
   "outputs": [
    {
     "ename": "NameError",
     "evalue": "name 'array' is not defined",
     "output_type": "error",
     "traceback": [
      "\u001b[0;31m---------------------------------------------------------------------------\u001b[0m",
      "\u001b[0;31mNameError\u001b[0m                                 Traceback (most recent call last)",
      "Cell \u001b[0;32mIn[103], line 1\u001b[0m\n\u001b[0;32m----> 1\u001b[0m \u001b[43marray\u001b[49m[array \u001b[38;5;241m<\u001b[39m threshold] \u001b[38;5;241m=\u001b[39m \u001b[38;5;241m0\u001b[39m\n",
      "\u001b[0;31mNameError\u001b[0m: name 'array' is not defined"
     ]
    }
   ],
   "source": [
    "array[array < threshold] = 0"
   ]
  },
  {
   "cell_type": "code",
   "execution_count": null,
   "id": "3a513a66-bd70-4a21-a5cf-0d63b2bcc8f6",
   "metadata": {},
   "outputs": [],
   "source": []
  }
 ],
 "metadata": {
  "kernelspec": {
   "display_name": "Python 3 (ipykernel)",
   "language": "python",
   "name": "python3"
  },
  "language_info": {
   "codemirror_mode": {
    "name": "ipython",
    "version": 3
   },
   "file_extension": ".py",
   "mimetype": "text/x-python",
   "name": "python",
   "nbconvert_exporter": "python",
   "pygments_lexer": "ipython3",
   "version": "3.10.8"
  }
 },
 "nbformat": 4,
 "nbformat_minor": 5
}
